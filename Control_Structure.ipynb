{
  "nbformat": 4,
  "nbformat_minor": 0,
  "metadata": {
    "colab": {
      "name": "Control Structure.ipynb",
      "provenance": [],
      "authorship_tag": "ABX9TyN4YjDT6MR1S35fH1e7/2+j",
      "include_colab_link": true
    },
    "kernelspec": {
      "name": "python3",
      "display_name": "Python 3"
    },
    "language_info": {
      "name": "python"
    }
  },
  "cells": [
    {
      "cell_type": "markdown",
      "metadata": {
        "id": "view-in-github",
        "colab_type": "text"
      },
      "source": [
        "<a href=\"https://colab.research.google.com/github/ChelseyGuasis/CPEN-21A-CPE-1-1/blob/main/Control_Structure.ipynb\" target=\"_parent\"><img src=\"https://colab.research.google.com/assets/colab-badge.svg\" alt=\"Open In Colab\"/></a>"
      ]
    },
    {
      "cell_type": "markdown",
      "metadata": {
        "id": "H6CKH8-nm_en"
      },
      "source": [
        "If Statement"
      ]
    },
    {
      "cell_type": "code",
      "metadata": {
        "id": "5-3o6APomveb",
        "colab": {
          "base_uri": "https://localhost:8080/"
        },
        "outputId": "7c2624b5-1f01-40d9-8cb1-d03c7d6dfe6a"
      },
      "source": [
        "a = 12\n",
        "b = 100\n",
        "\n",
        "if b>a:\n",
        "  print(\"b is greater than a\")"
      ],
      "execution_count": 12,
      "outputs": [
        {
          "output_type": "stream",
          "name": "stdout",
          "text": [
            "b is greater than a\n"
          ]
        }
      ]
    },
    {
      "cell_type": "markdown",
      "metadata": {
        "id": "h0xQd7beozCB"
      },
      "source": [
        "##Elif Condition"
      ]
    },
    {
      "cell_type": "code",
      "metadata": {
        "colab": {
          "base_uri": "https://localhost:8080/"
        },
        "id": "1zlz7iOxo4q7",
        "outputId": "3bbcc1ba-186d-4c88-fccb-a2320e1bfca4"
      },
      "source": [
        "a = 12\n",
        "b = 12\n",
        "\n",
        "if b>a:\n",
        "  print(\"b is greater than a\")\n",
        "elif a==b:\n",
        "  print(\"a is equal to b\")"
      ],
      "execution_count": 13,
      "outputs": [
        {
          "output_type": "stream",
          "name": "stdout",
          "text": [
            "a is equal to b\n"
          ]
        }
      ]
    },
    {
      "cell_type": "markdown",
      "metadata": {
        "id": "q-G4M3qMpiqC"
      },
      "source": [
        "##Else Statement"
      ]
    },
    {
      "cell_type": "code",
      "metadata": {
        "colab": {
          "base_uri": "https://localhost:8080/"
        },
        "id": "WTGhkG8UpnnT",
        "outputId": "8be87af8-0c3f-4649-bb4c-0286e943f407"
      },
      "source": [
        "a = 120\n",
        "b = 12\n",
        "\n",
        "if b>a:\n",
        "  print(\"b is greater than a\")\n",
        "elif a==b:\n",
        "  print(\"a is equal to b\")\n",
        "else:\n",
        "  print(\"b is less than a\")"
      ],
      "execution_count": 20,
      "outputs": [
        {
          "output_type": "stream",
          "name": "stdout",
          "text": [
            "b is less than a\n"
          ]
        }
      ]
    },
    {
      "cell_type": "markdown",
      "metadata": {
        "id": "TF1b36pmqdq-"
      },
      "source": [
        "##Short Hand If Statement"
      ]
    },
    {
      "cell_type": "code",
      "metadata": {
        "colab": {
          "base_uri": "https://localhost:8080/"
        },
        "id": "6jZpRlMjqiFT",
        "outputId": "1f429d01-1924-4704-8814-7c92bcb5181b"
      },
      "source": [
        "if a>b: print(\"a is greater than b\")"
      ],
      "execution_count": 21,
      "outputs": [
        {
          "output_type": "stream",
          "name": "stdout",
          "text": [
            "a is greater than b\n"
          ]
        }
      ]
    },
    {
      "cell_type": "markdown",
      "metadata": {
        "id": "wm3vXn1JrIM1"
      },
      "source": [
        "##Short Hand iF..Else Statement"
      ]
    },
    {
      "cell_type": "code",
      "metadata": {
        "colab": {
          "base_uri": "https://localhost:8080/"
        },
        "id": "et_4AEA_rTNV",
        "outputId": "4f608f45-b9fd-441e-a0ce-1d719f5810f9"
      },
      "source": [
        "print(\"a is greater than b\") if a>b else print(\"b is greater than a\") "
      ],
      "execution_count": 22,
      "outputs": [
        {
          "output_type": "stream",
          "name": "stdout",
          "text": [
            "a is greater than b\n"
          ]
        }
      ]
    },
    {
      "cell_type": "markdown",
      "metadata": {
        "id": "LAVDcYRds2pI"
      },
      "source": [
        "##And-both Conditions Are True"
      ]
    },
    {
      "cell_type": "code",
      "metadata": {
        "colab": {
          "base_uri": "https://localhost:8080/"
        },
        "id": "bQ9Nd5XBuBSG",
        "outputId": "e285e054-8e4d-4fee-fd6e-568c8ff02e37"
      },
      "source": [
        "a = 15\n",
        "b = 35\n",
        "\n",
        "if b>a and a<b:\n",
        "  print(\"Both conditions are True\")\n",
        "elif b<a and a>b:\n",
        "  print(\"a is larger than b\")\n",
        "else:\n",
        "  print(\"None of the above\")"
      ],
      "execution_count": 26,
      "outputs": [
        {
          "output_type": "stream",
          "name": "stdout",
          "text": [
            "Both conditions are True\n"
          ]
        }
      ]
    },
    {
      "cell_type": "markdown",
      "metadata": {
        "id": "tfvobTN-vT3I"
      },
      "source": [
        "Or Condition"
      ]
    },
    {
      "cell_type": "code",
      "metadata": {
        "colab": {
          "base_uri": "https://localhost:8080/"
        },
        "id": "m1ZsELEevWUM",
        "outputId": "e04caa67-9c7a-426f-f703-186f477d2a56"
      },
      "source": [
        "a = 35\n",
        "b = 20\n",
        "\n",
        "if b>a or a==b:\n",
        "  print(\"True\")\n",
        "else:\n",
        "  print(\"False\")"
      ],
      "execution_count": 29,
      "outputs": [
        {
          "output_type": "stream",
          "name": "stdout",
          "text": [
            "False\n"
          ]
        }
      ]
    },
    {
      "cell_type": "markdown",
      "metadata": {
        "id": "iWfexoOzw5gu"
      },
      "source": [
        "##Nested If"
      ]
    },
    {
      "cell_type": "code",
      "metadata": {
        "colab": {
          "base_uri": "https://localhost:8080/"
        },
        "id": "uFYynkW-w9lF",
        "outputId": "4f602b91-8c8b-48ca-96e7-6d98fff54adc"
      },
      "source": [
        "x = 9\n",
        "if x>10:\n",
        "  print(\"Above 10\")\n",
        "  if x>20:\n",
        "    print(\"Above 20\")\n",
        "    if x>30:\n",
        "      print(\"Above 30\")\n",
        "    else:\n",
        "      print(\"Not above 30\")\n",
        "  else:\n",
        "    print(\"Not above 20\")\n",
        "else:\n",
        "  print(\"Not above 10\")"
      ],
      "execution_count": 31,
      "outputs": [
        {
          "output_type": "stream",
          "name": "stdout",
          "text": [
            "Not above 10\n"
          ]
        }
      ]
    },
    {
      "cell_type": "markdown",
      "metadata": {
        "id": "KEHVn_VXyK7C"
      },
      "source": [
        "Application of If..Else Statement"
      ]
    },
    {
      "cell_type": "code",
      "metadata": {
        "colab": {
          "base_uri": "https://localhost:8080/"
        },
        "id": "7XSCMx8ryPkX",
        "outputId": "0ca2cba5-236e-49c7-a981-37c46b2b1211"
      },
      "source": [
        "#Example 1\n",
        "\n",
        "age = int(input(\"Enter your age:\"))\n",
        "\n",
        "if age>=18:\n",
        "  print(\"You are qualified to vote!\")\n",
        "else:\n",
        "  print(\"You are not qualified to vote!\")"
      ],
      "execution_count": 38,
      "outputs": [
        {
          "output_type": "stream",
          "name": "stdout",
          "text": [
            "Enter your age:18\n",
            "You are qualified to vote!\n"
          ]
        }
      ]
    },
    {
      "cell_type": "code",
      "metadata": {
        "colab": {
          "base_uri": "https://localhost:8080/"
        },
        "id": "DcjagLuBzjxm",
        "outputId": "1286de08-3676-4500-ba6f-5179efc59368"
      },
      "source": [
        "#Example 2 to check whether 0, negative or positive number\n",
        "\n",
        "number = int(input(\"Enter the number:\"))\n",
        "\n",
        "if number ==0:\n",
        "  print(\"Zero\")\n",
        "elif number>0:\n",
        "    print(\"Positive\")\n",
        "else:\n",
        "    print(\"Negative\")"
      ],
      "execution_count": 40,
      "outputs": [
        {
          "output_type": "stream",
          "name": "stdout",
          "text": [
            "Enter the number:-1\n",
            "Negative\n"
          ]
        }
      ]
    },
    {
      "cell_type": "code",
      "metadata": {
        "colab": {
          "base_uri": "https://localhost:8080/"
        },
        "id": "z6lZyElf0PYl",
        "outputId": "26d6e419-c659-4e7d-a9c3-934ed53f3323"
      },
      "source": [
        "#Example 3\n",
        "\n",
        "grade = int(input(\"Enter your grade:\"))\n",
        "\n",
        "if grade>=75:\n",
        "  print(\"Passed\")\n",
        "elif grade==74:\n",
        "  print(\"Remedial\")\n",
        "else:\n",
        "  print(\"Failed\")"
      ],
      "execution_count": 45,
      "outputs": [
        {
          "output_type": "stream",
          "name": "stdout",
          "text": [
            "Enter your grade:90\n",
            "Passed\n"
          ]
        }
      ]
    }
  ]
}