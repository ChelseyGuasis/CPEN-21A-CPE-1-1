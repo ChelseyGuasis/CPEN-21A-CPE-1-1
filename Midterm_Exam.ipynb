{
  "nbformat": 4,
  "nbformat_minor": 0,
  "metadata": {
    "colab": {
      "name": "Midterm Exam.ipynb",
      "provenance": [],
      "authorship_tag": "ABX9TyMyzW0//lJEM1sIAIxN1an5",
      "include_colab_link": true
    },
    "kernelspec": {
      "name": "python3",
      "display_name": "Python 3"
    },
    "language_info": {
      "name": "python"
    }
  },
  "cells": [
    {
      "cell_type": "markdown",
      "metadata": {
        "id": "view-in-github",
        "colab_type": "text"
      },
      "source": [
        "<a href=\"https://colab.research.google.com/github/ChelseyGuasis/CPEN-21A-CPE-1-1/blob/main/Midterm_Exam.ipynb\" target=\"_parent\"><img src=\"https://colab.research.google.com/assets/colab-badge.svg\" alt=\"Open In Colab\"/></a>"
      ]
    },
    {
      "cell_type": "markdown",
      "metadata": {
        "id": "iXBXJx-AiD0I"
      },
      "source": [
        "###Midterm Exam"
      ]
    },
    {
      "cell_type": "markdown",
      "metadata": {
        "id": "o2MO1JHxjFCn"
      },
      "source": [
        "######PROBLEM SET 1"
      ]
    },
    {
      "cell_type": "code",
      "metadata": {
        "colab": {
          "base_uri": "https://localhost:8080/"
        },
        "id": "HxjRfsjlh9z0",
        "outputId": "562ab6a6-275c-4d06-b365-5ea291eea4ea"
      },
      "source": [
        "Name = \"Chelsey L. Guasis\"\n",
        "StudentNumber = \"202102319\"\n",
        "Age = \"19 years old\"\n",
        "Birthday = \"June 23, 2002\"\n",
        "Address = \"Naic, Cavite\"\n",
        "Course = \"BSCpE\"\n",
        "LastSemGWA = \"97\"\n",
        "\n",
        "print(\"My name is\" + \" \" + Name + \" \" + \"with\" + \" \" + \"student number\" + \" \" + StudentNumber + \".\" + \" \" + \"I am\" + \" \"+ Age + \" \" + \"and born on\" + \" \" + Birthday + \".\" + \" \" + \"I live in\" + \" \" + Address + \".\" + \" \" + \"I am currently taking\" + \" \" + Course + \" \" + \"with last sem GWA of\" + \" \" + LastSemGWA + \".\")"
      ],
      "execution_count": 7,
      "outputs": [
        {
          "output_type": "stream",
          "name": "stdout",
          "text": [
            "My name is Chelsey L. Guasis with student number 202102319. I am 19 years old and born on June 23, 2002. I live in Naic, Cavite. I am currently taking BSCpE with last sem GWA of 97.\n"
          ]
        }
      ]
    },
    {
      "cell_type": "markdown",
      "metadata": {
        "id": "C-FlP0GPjOkI"
      },
      "source": [
        "######PROBLEM SET 2"
      ]
    },
    {
      "cell_type": "code",
      "metadata": {
        "colab": {
          "base_uri": "https://localhost:8080/"
        },
        "id": "uJEwYbPejYvx",
        "outputId": "88a079cf-128e-4cd5-a7cc-1e8edb9b50f5"
      },
      "source": [
        "n = 4\n",
        "answ = \"Y\"\n",
        "\n",
        "print((2<n) and (n<6))\n",
        "print((2<n) or (n==6))\n",
        "print(not(2<n) or (n==6))\n",
        "print(not(n<6))\n",
        "print((answ==\"Y\") or (answ==\"y\"))\n",
        "print((answ==\"Y\") and (answ==\"y\"))\n",
        "print(not(answ==\"y\"))\n",
        "print((2<n) and (n==5+1)) or (answ==\"No\")\n",
        "print(((n==2) and (n==7)) or (answ==\"Y\"))\n",
        "print(n==2) and ((n==7) or (answ==\"Y\"))"
      ],
      "execution_count": 30,
      "outputs": [
        {
          "output_type": "stream",
          "name": "stdout",
          "text": [
            "True\n",
            "True\n",
            "False\n",
            "False\n",
            "True\n",
            "False\n",
            "True\n",
            "False\n",
            "True\n",
            "False\n"
          ]
        }
      ]
    },
    {
      "cell_type": "markdown",
      "metadata": {
        "id": "ilOTUxH3m9cO"
      },
      "source": [
        "######PROBLEM SET 3"
      ]
    },
    {
      "cell_type": "code",
      "metadata": {
        "colab": {
          "base_uri": "https://localhost:8080/"
        },
        "id": "_EKiInxmnBBC",
        "outputId": "4520624c-615d-4590-b123-2b2456ff4822"
      },
      "source": [
        "x = 2\n",
        "y = -3\n",
        "w = 7\n",
        "z = -10\n",
        "\n",
        "print(x/y)\n",
        "print(w/y/x)\n",
        "print(z/y%x)\n",
        "print(x%-y*w)\n",
        "print(x%y)\n",
        "print(z%w-y/x*5+5)\n",
        "print(9-x%(2+y))\n",
        "print(z//w)\n",
        "print((2+y)**2)\n",
        "print(w/x*2)"
      ],
      "execution_count": 9,
      "outputs": [
        {
          "output_type": "stream",
          "name": "stdout",
          "text": [
            "-0.6666666666666666\n",
            "-1.1666666666666667\n",
            "1.3333333333333335\n",
            "14\n",
            "-1\n",
            "16.5\n",
            "9\n",
            "-2\n",
            "1\n",
            "7.0\n"
          ]
        }
      ]
    }
  ]
}