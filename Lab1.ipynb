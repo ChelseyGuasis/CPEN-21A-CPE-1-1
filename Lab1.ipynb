{
  "nbformat": 4,
  "nbformat_minor": 0,
  "metadata": {
    "colab": {
      "name": "Lab1.ipynb",
      "provenance": [],
      "authorship_tag": "ABX9TyMx0lLV/qa6f+12Ezwr2nmT",
      "include_colab_link": true
    },
    "kernelspec": {
      "name": "python3",
      "display_name": "Python 3"
    },
    "language_info": {
      "name": "python"
    }
  },
  "cells": [
    {
      "cell_type": "markdown",
      "metadata": {
        "id": "view-in-github",
        "colab_type": "text"
      },
      "source": [
        "<a href=\"https://colab.research.google.com/github/ChelseyGuasis/CPEN-21A-CPE-1-1/blob/main/Lab1.ipynb\" target=\"_parent\"><img src=\"https://colab.research.google.com/assets/colab-badge.svg\" alt=\"Open In Colab\"/></a>"
      ]
    },
    {
      "cell_type": "markdown",
      "metadata": {
        "id": "112lUerQWt4k"
      },
      "source": [
        "###Laboratory1"
      ]
    },
    {
      "cell_type": "code",
      "metadata": {
        "colab": {
          "base_uri": "https://localhost:8080/"
        },
        "id": "Xz0tRtSNUUuO",
        "outputId": "35ecc405-49da-41cc-f3cf-bbdefe60d4ec"
      },
      "source": [
        "message = \"Welcome to Python Programming\"\n",
        "print(message)"
      ],
      "execution_count": 2,
      "outputs": [
        {
          "output_type": "stream",
          "name": "stdout",
          "text": [
            "Welcome to Python Programming\n"
          ]
        }
      ]
    },
    {
      "cell_type": "code",
      "metadata": {
        "colab": {
          "base_uri": "https://localhost:8080/"
        },
        "id": "tAGWmFdqYDzz",
        "outputId": "10291b14-8ce8-42e8-a645-85eaa870fe9b"
      },
      "source": [
        "name = \"Chelsey L. Guasis\"\n",
        "address = \"372 Pagkakaisa St. Bancaan Naic, Cavite\"\n",
        "age = int(19)\n",
        "print(\"My name is\" + \" \" + name + \" \" + \"from\" + \" \" + address + \" \" + \"and\" + \" \" + str(age) + \" \" + \"years of age\" + \".\")"
      ],
      "execution_count": 11,
      "outputs": [
        {
          "output_type": "stream",
          "name": "stdout",
          "text": [
            "My name is Chelsey L. Guasis from 372 Pagkakaisa St. Bancaan Naic, Cavite and 19 years of age.\n"
          ]
        }
      ]
    }
  ]
}