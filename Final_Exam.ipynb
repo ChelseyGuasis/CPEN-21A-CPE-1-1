{
  "nbformat": 4,
  "nbformat_minor": 0,
  "metadata": {
    "colab": {
      "name": "Final Exam.ipynb",
      "provenance": [],
      "authorship_tag": "ABX9TyNlYjTXaO0hxwO0SEgKZTHB",
      "include_colab_link": true
    },
    "kernelspec": {
      "name": "python3",
      "display_name": "Python 3"
    },
    "language_info": {
      "name": "python"
    }
  },
  "cells": [
    {
      "cell_type": "markdown",
      "metadata": {
        "id": "view-in-github",
        "colab_type": "text"
      },
      "source": [
        "<a href=\"https://colab.research.google.com/github/ChelseyGuasis/CPEN-21A-CPE-1-1/blob/main/Final_Exam.ipynb\" target=\"_parent\"><img src=\"https://colab.research.google.com/assets/colab-badge.svg\" alt=\"Open In Colab\"/></a>"
      ]
    },
    {
      "cell_type": "markdown",
      "source": [
        "###Final Exam"
      ],
      "metadata": {
        "id": "apQNF8yed4RJ"
      }
    },
    {
      "cell_type": "markdown",
      "source": [
        "Problem Set 1"
      ],
      "metadata": {
        "id": "2O-23OPjeOt3"
      }
    },
    {
      "cell_type": "code",
      "source": [
        "sum = 0\n",
        "number = [-6,-4,-2,-1,0,1,2,3,4,5]\n",
        "for x in (number):\n",
        "  sum = sum + x\n",
        "print(sum)"
      ],
      "metadata": {
        "colab": {
          "base_uri": "https://localhost:8080/"
        },
        "id": "Ktfaklj6eRxX",
        "outputId": "6c841d0c-5d32-40ed-aa31-14039d2656b6"
      },
      "execution_count": 4,
      "outputs": [
        {
          "output_type": "stream",
          "name": "stdout",
          "text": [
            "2\n"
          ]
        }
      ]
    },
    {
      "cell_type": "markdown",
      "source": [
        "Problem Set 2"
      ],
      "metadata": {
        "id": "lyUuHqr4j6B-"
      }
    },
    {
      "cell_type": "code",
      "source": [
        "z = int(input(\"1st number: \"))\n",
        "while (z !=0):\n",
        "  n = int(input(\"2nd number: \"))\n",
        "  o = int(input(\"3rd number: \"))\n",
        "  p = int(input(\"4th number: \"))\n",
        "  q = int(input(\"5th number: \"))\n",
        "  break\n",
        "  x = q\n",
        "while (x !=0):\n",
        "  x = z + q\n",
        "  print(\"The sum of first and last number is\",x)\n",
        "  z -= 1\n",
        "  break"
      ],
      "metadata": {
        "colab": {
          "base_uri": "https://localhost:8080/"
        },
        "id": "cNFy8qAmzakT",
        "outputId": "6ed0e0ff-a080-4c54-be3e-428fbcfcb5f8"
      },
      "execution_count": 46,
      "outputs": [
        {
          "output_type": "stream",
          "name": "stdout",
          "text": [
            "1st number: 1000\n",
            "2nd number: 4\n",
            "3rd number: 6\n",
            "4th number: 5\n",
            "5th number: 677\n",
            "The sum of first and last number is 1677\n"
          ]
        }
      ]
    },
    {
      "cell_type": "markdown",
      "source": [
        "Problem Set 3"
      ],
      "metadata": {
        "id": "owcUB9PlnVI1"
      }
    },
    {
      "cell_type": "code",
      "source": [
        "grade = float(input(\"Enter your numerical grade: \")) \n",
        "if grade >=90:\n",
        "  print(\"Character Grade: A\")\n",
        "elif grade >=80:\n",
        "  print(\"Character Grade: B\")\n",
        "elif grade >=70:\n",
        "  print(\"Character Grade: C\")\n",
        "elif grade >=60:\n",
        "  print(\"Character Grade: D\")\n",
        "else:\n",
        "  print(\"Character Grade: F\")"
      ],
      "metadata": {
        "colab": {
          "base_uri": "https://localhost:8080/"
        },
        "id": "5mUNEctfnX5Q",
        "outputId": "d5ef47c5-2e43-47e8-fb51-ace07a247c13"
      },
      "execution_count": 50,
      "outputs": [
        {
          "output_type": "stream",
          "name": "stdout",
          "text": [
            "Enter your numerical grade: 99.78\n",
            "Character Grade: A\n"
          ]
        }
      ]
    }
  ]
}